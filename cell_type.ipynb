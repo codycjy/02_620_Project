{
 "cells": [
  {
   "cell_type": "code",
   "execution_count": null,
   "metadata": {
    "colab": {
     "base_uri": "https://localhost:8080/"
    },
    "executionInfo": {
     "elapsed": 20028,
     "status": "ok",
     "timestamp": 1744409616289,
     "user": {
      "displayName": "Zhaoyi You",
      "userId": "06669774142522001696"
     },
     "user_tz": 240
    },
    "id": "aeAsOyXO3oLB",
    "outputId": "9e8beab8-0547-4a1b-be35-0451c0a0a559"
   },
   "outputs": [
    {
     "name": "stdout",
     "output_type": "stream",
     "text": [
      "Mounted at /content/drive\n",
      "Requirement already satisfied: numpy in /usr/local/lib/python3.11/dist-packages (2.0.2)\n",
      "/content/drive/My Drive\n"
     ]
    }
   ],
   "source": [
    "#@title Mount Drive\n",
    "from google.colab import drive\n",
    "drive.mount('/content/drive')\n",
    "\n",
    "%cd /content/drive/My Drive"
   ]
  },
  {
   "cell_type": "code",
   "execution_count": 1,
   "metadata": {
    "colab": {
     "base_uri": "https://localhost:8080/"
    },
    "executionInfo": {
     "elapsed": 19645,
     "status": "ok",
     "timestamp": 1744408913276,
     "user": {
      "displayName": "Zhaoyi You",
      "userId": "06669774142522001696"
     },
     "user_tz": 240
    },
    "id": "e0E5PnZP3m-D",
    "outputId": "26841f99-0168-4b57-8c24-8dd40578a2ea"
   },
   "outputs": [
    {
     "name": "stderr",
     "output_type": "stream",
     "text": [
      "Fontconfig warning: ignoring UTF-8: not a valid region tag\n",
      "Matplotlib is building the font cache; this may take a moment.\n"
     ]
    }
   ],
   "source": [
    "\n",
    "import scanpy as sc\n",
    "import pandas as pd\n",
    "import os\n",
    "import hdf5plugin\n",
    "import numpy as np\n",
    "#os.environ[\"Hdata5_PLUGIN_PATH\"] = hdf5plugin.PLUGIN_PATH"
   ]
  },
  {
   "cell_type": "code",
   "execution_count": 2,
   "metadata": {
    "colab": {
     "base_uri": "https://localhost:8080/"
    },
    "id": "Uh675aGy3m-H",
    "outputId": "2bf69992-8cd9-4776-c1d0-7baaad6df2a7"
   },
   "outputs": [
    {
     "name": "stdout",
     "output_type": "stream",
     "text": [
      "                                                                                     sample_id  \\\n",
      "exp_component_name                                                                               \n",
      "AGAAGTAGTGCTGCAC-L8TX_210430_01_H04-1142430420  AGAAGTAGTGCTGCAC-L8TX_210430_01_H04-1142430420   \n",
      "ATTCCTAGTATCGAGG-L8TX_210430_01_H04-1142430420  ATTCCTAGTATCGAGG-L8TX_210430_01_H04-1142430420   \n",
      "ATTGTTCAGACCTCCG-L8TX_210430_01_H04-1142430420  ATTGTTCAGACCTCCG-L8TX_210430_01_H04-1142430420   \n",
      "TGCTCCACACACAGCC-L8TX_210430_01_H04-1142430420  TGCTCCACACACAGCC-L8TX_210430_01_H04-1142430420   \n",
      "CAGTACCCAGGCTACT-L8XR_210812_01_F11-1124987484  CAGTACCCAGGCTACT-L8XR_210812_01_F11-1124987484   \n",
      "...                                                                                        ...   \n",
      "AATGACCGTAGTTACC-L8TX_210729_01_F12-1153814344  AATGACCGTAGTTACC-L8TX_210729_01_F12-1153814344   \n",
      "GGGATCCAGAAGCTGC-L8TX_210729_01_F12-1153814344  GGGATCCAGAAGCTGC-L8TX_210729_01_F12-1153814344   \n",
      "GCTCAAATCCCTGTTG-L8TX_210729_01_F12-1153814344  GCTCAAATCCCTGTTG-L8TX_210729_01_F12-1153814344   \n",
      "CATGGTATCCAGCAAT-L8TX_210812_01_A10-1153814350  CATGGTATCCAGCAAT-L8TX_210812_01_A10-1153814350   \n",
      "AATGACCCAGCTCTGG-L8TX_210729_01_F12-1153814344  AATGACCCAGCTCTGG-L8TX_210729_01_F12-1153814344   \n",
      "\n",
      "                                               Neurotypical reference  \\\n",
      "exp_component_name                                                      \n",
      "AGAAGTAGTGCTGCAC-L8TX_210430_01_H04-1142430420                  False   \n",
      "ATTCCTAGTATCGAGG-L8TX_210430_01_H04-1142430420                  False   \n",
      "ATTGTTCAGACCTCCG-L8TX_210430_01_H04-1142430420                  False   \n",
      "TGCTCCACACACAGCC-L8TX_210430_01_H04-1142430420                  False   \n",
      "CAGTACCCAGGCTACT-L8XR_210812_01_F11-1124987484                  False   \n",
      "...                                                               ...   \n",
      "AATGACCGTAGTTACC-L8TX_210729_01_F12-1153814344                  False   \n",
      "GGGATCCAGAAGCTGC-L8TX_210729_01_F12-1153814344                  False   \n",
      "GCTCAAATCCCTGTTG-L8TX_210729_01_F12-1153814344                  False   \n",
      "CATGGTATCCAGCAAT-L8TX_210812_01_A10-1153814350                  False   \n",
      "AATGACCCAGCTCTGG-L8TX_210729_01_F12-1153814344                  False   \n",
      "\n",
      "                                                  Donor ID Organism  \\\n",
      "exp_component_name                                                    \n",
      "AGAAGTAGTGCTGCAC-L8TX_210430_01_H04-1142430420  H20.33.002    human   \n",
      "ATTCCTAGTATCGAGG-L8TX_210430_01_H04-1142430420  H20.33.002    human   \n",
      "ATTGTTCAGACCTCCG-L8TX_210430_01_H04-1142430420  H20.33.002    human   \n",
      "TGCTCCACACACAGCC-L8TX_210430_01_H04-1142430420  H20.33.002    human   \n",
      "CAGTACCCAGGCTACT-L8XR_210812_01_F11-1124987484  H20.33.002    human   \n",
      "...                                                    ...      ...   \n",
      "AATGACCGTAGTTACC-L8TX_210729_01_F12-1153814344  H21.33.041    human   \n",
      "GGGATCCAGAAGCTGC-L8TX_210729_01_F12-1153814344  H21.33.041    human   \n",
      "GCTCAAATCCCTGTTG-L8TX_210729_01_F12-1153814344  H21.33.041    human   \n",
      "CATGGTATCCAGCAAT-L8TX_210812_01_A10-1153814350  H21.33.041    human   \n",
      "AATGACCCAGCTCTGG-L8TX_210729_01_F12-1153814344  H21.33.041    human   \n",
      "\n",
      "                                               Brain Region     Sex  Gender  \\\n",
      "exp_component_name                                                            \n",
      "AGAAGTAGTGCTGCAC-L8TX_210430_01_H04-1142430420    Human MTG  Female  Female   \n",
      "ATTCCTAGTATCGAGG-L8TX_210430_01_H04-1142430420    Human MTG  Female  Female   \n",
      "ATTGTTCAGACCTCCG-L8TX_210430_01_H04-1142430420    Human MTG  Female  Female   \n",
      "TGCTCCACACACAGCC-L8TX_210430_01_H04-1142430420    Human MTG  Female  Female   \n",
      "CAGTACCCAGGCTACT-L8XR_210812_01_F11-1124987484    Human MTG  Female  Female   \n",
      "...                                                     ...     ...     ...   \n",
      "AATGACCGTAGTTACC-L8TX_210729_01_F12-1153814344    Human MTG  Female  Female   \n",
      "GGGATCCAGAAGCTGC-L8TX_210729_01_F12-1153814344    Human MTG  Female  Female   \n",
      "GCTCAAATCCCTGTTG-L8TX_210729_01_F12-1153814344    Human MTG  Female  Female   \n",
      "CATGGTATCCAGCAAT-L8TX_210812_01_A10-1153814350    Human MTG  Female  Female   \n",
      "AATGACCCAGCTCTGG-L8TX_210729_01_F12-1153814344    Human MTG  Female  Female   \n",
      "\n",
      "                                                Age at Death  \\\n",
      "exp_component_name                                             \n",
      "AGAAGTAGTGCTGCAC-L8TX_210430_01_H04-1142430420          97.0   \n",
      "ATTCCTAGTATCGAGG-L8TX_210430_01_H04-1142430420          97.0   \n",
      "ATTGTTCAGACCTCCG-L8TX_210430_01_H04-1142430420          97.0   \n",
      "TGCTCCACACACAGCC-L8TX_210430_01_H04-1142430420          97.0   \n",
      "CAGTACCCAGGCTACT-L8XR_210812_01_F11-1124987484          97.0   \n",
      "...                                                      ...   \n",
      "AATGACCGTAGTTACC-L8TX_210729_01_F12-1153814344          98.0   \n",
      "GGGATCCAGAAGCTGC-L8TX_210729_01_F12-1153814344          98.0   \n",
      "GCTCAAATCCCTGTTG-L8TX_210729_01_F12-1153814344          98.0   \n",
      "CATGGTATCCAGCAAT-L8TX_210812_01_A10-1153814350          98.0   \n",
      "AATGACCCAGCTCTGG-L8TX_210729_01_F12-1153814344          98.0   \n",
      "\n",
      "                                               Race (choice=White)  \\\n",
      "exp_component_name                                                   \n",
      "AGAAGTAGTGCTGCAC-L8TX_210430_01_H04-1142430420             Checked   \n",
      "ATTCCTAGTATCGAGG-L8TX_210430_01_H04-1142430420             Checked   \n",
      "ATTGTTCAGACCTCCG-L8TX_210430_01_H04-1142430420             Checked   \n",
      "TGCTCCACACACAGCC-L8TX_210430_01_H04-1142430420             Checked   \n",
      "CAGTACCCAGGCTACT-L8XR_210812_01_F11-1124987484             Checked   \n",
      "...                                                            ...   \n",
      "AATGACCGTAGTTACC-L8TX_210729_01_F12-1153814344             Checked   \n",
      "GGGATCCAGAAGCTGC-L8TX_210729_01_F12-1153814344             Checked   \n",
      "GCTCAAATCCCTGTTG-L8TX_210729_01_F12-1153814344             Checked   \n",
      "CATGGTATCCAGCAAT-L8TX_210812_01_A10-1153814350             Checked   \n",
      "AATGACCCAGCTCTGG-L8TX_210729_01_F12-1153814344             Checked   \n",
      "\n",
      "                                               Race (choice=Black/ African American)  \\\n",
      "exp_component_name                                                                     \n",
      "AGAAGTAGTGCTGCAC-L8TX_210430_01_H04-1142430420                             Unchecked   \n",
      "ATTCCTAGTATCGAGG-L8TX_210430_01_H04-1142430420                             Unchecked   \n",
      "ATTGTTCAGACCTCCG-L8TX_210430_01_H04-1142430420                             Unchecked   \n",
      "TGCTCCACACACAGCC-L8TX_210430_01_H04-1142430420                             Unchecked   \n",
      "CAGTACCCAGGCTACT-L8XR_210812_01_F11-1124987484                             Unchecked   \n",
      "...                                                                              ...   \n",
      "AATGACCGTAGTTACC-L8TX_210729_01_F12-1153814344                             Unchecked   \n",
      "GGGATCCAGAAGCTGC-L8TX_210729_01_F12-1153814344                             Unchecked   \n",
      "GCTCAAATCCCTGTTG-L8TX_210729_01_F12-1153814344                             Unchecked   \n",
      "CATGGTATCCAGCAAT-L8TX_210812_01_A10-1153814350                             Unchecked   \n",
      "AATGACCCAGCTCTGG-L8TX_210729_01_F12-1153814344                             Unchecked   \n",
      "\n",
      "                                                ...                    Class  \\\n",
      "exp_component_name                              ...                            \n",
      "AGAAGTAGTGCTGCAC-L8TX_210430_01_H04-1142430420  ...  Neuronal: Glutamatergic   \n",
      "ATTCCTAGTATCGAGG-L8TX_210430_01_H04-1142430420  ...      Neuronal: GABAergic   \n",
      "ATTGTTCAGACCTCCG-L8TX_210430_01_H04-1142430420  ...  Neuronal: Glutamatergic   \n",
      "TGCTCCACACACAGCC-L8TX_210430_01_H04-1142430420  ...  Neuronal: Glutamatergic   \n",
      "CAGTACCCAGGCTACT-L8XR_210812_01_F11-1124987484  ...  Neuronal: Glutamatergic   \n",
      "...                                             ...                      ...   \n",
      "AATGACCGTAGTTACC-L8TX_210729_01_F12-1153814344  ...  Neuronal: Glutamatergic   \n",
      "GGGATCCAGAAGCTGC-L8TX_210729_01_F12-1153814344  ...  Neuronal: Glutamatergic   \n",
      "GCTCAAATCCCTGTTG-L8TX_210729_01_F12-1153814344  ...      Neuronal: GABAergic   \n",
      "CATGGTATCCAGCAAT-L8TX_210812_01_A10-1153814350  ...  Neuronal: Glutamatergic   \n",
      "AATGACCCAGCTCTGG-L8TX_210729_01_F12-1153814344  ...      Neuronal: GABAergic   \n",
      "\n",
      "                                               Subclass confidence Subclass  \\\n",
      "exp_component_name                                                            \n",
      "AGAAGTAGTGCTGCAC-L8TX_210430_01_H04-1142430420                 1.0    L6 IT   \n",
      "ATTCCTAGTATCGAGG-L8TX_210430_01_H04-1142430420                 1.0    Pvalb   \n",
      "ATTGTTCAGACCTCCG-L8TX_210430_01_H04-1142430420                 1.0  L2/3 IT   \n",
      "TGCTCCACACACAGCC-L8TX_210430_01_H04-1142430420                 1.0  L2/3 IT   \n",
      "CAGTACCCAGGCTACT-L8XR_210812_01_F11-1124987484                 1.0    L6 IT   \n",
      "...                                                            ...      ...   \n",
      "AATGACCGTAGTTACC-L8TX_210729_01_F12-1153814344                 1.0  L5/6 NP   \n",
      "GGGATCCAGAAGCTGC-L8TX_210729_01_F12-1153814344                 1.0  L2/3 IT   \n",
      "GCTCAAATCCCTGTTG-L8TX_210729_01_F12-1153814344                 1.0      Vip   \n",
      "CATGGTATCCAGCAAT-L8TX_210812_01_A10-1153814350                 1.0  L2/3 IT   \n",
      "AATGACCCAGCTCTGG-L8TX_210729_01_F12-1153814344                 1.0     Sncg   \n",
      "\n",
      "                                               Supertype confidence  \\\n",
      "exp_component_name                                                    \n",
      "AGAAGTAGTGCTGCAC-L8TX_210430_01_H04-1142430420             1.000000   \n",
      "ATTCCTAGTATCGAGG-L8TX_210430_01_H04-1142430420             0.999947   \n",
      "ATTGTTCAGACCTCCG-L8TX_210430_01_H04-1142430420             1.000000   \n",
      "TGCTCCACACACAGCC-L8TX_210430_01_H04-1142430420             1.000000   \n",
      "CAGTACCCAGGCTACT-L8XR_210812_01_F11-1124987484             0.999993   \n",
      "...                                                             ...   \n",
      "AATGACCGTAGTTACC-L8TX_210729_01_F12-1153814344             1.000000   \n",
      "GGGATCCAGAAGCTGC-L8TX_210729_01_F12-1153814344             0.999503   \n",
      "GCTCAAATCCCTGTTG-L8TX_210729_01_F12-1153814344             0.997005   \n",
      "CATGGTATCCAGCAAT-L8TX_210812_01_A10-1153814350             0.999999   \n",
      "AATGACCCAGCTCTGG-L8TX_210729_01_F12-1153814344             1.000000   \n",
      "\n",
      "                                               Supertype (non-expanded)  \\\n",
      "exp_component_name                                                        \n",
      "AGAAGTAGTGCTGCAC-L8TX_210430_01_H04-1142430420                  L6 IT_2   \n",
      "ATTCCTAGTATCGAGG-L8TX_210430_01_H04-1142430420                  Pvalb_2   \n",
      "ATTGTTCAGACCTCCG-L8TX_210430_01_H04-1142430420                L2/3 IT_1   \n",
      "TGCTCCACACACAGCC-L8TX_210430_01_H04-1142430420                L2/3 IT_5   \n",
      "CAGTACCCAGGCTACT-L8XR_210812_01_F11-1124987484                  L6 IT_2   \n",
      "...                                                                 ...   \n",
      "AATGACCGTAGTTACC-L8TX_210729_01_F12-1153814344                L5/6 NP_1   \n",
      "GGGATCCAGAAGCTGC-L8TX_210729_01_F12-1153814344                L2/3 IT_6   \n",
      "GCTCAAATCCCTGTTG-L8TX_210729_01_F12-1153814344                   Vip_13   \n",
      "CATGGTATCCAGCAAT-L8TX_210812_01_A10-1153814350                L2/3 IT_5   \n",
      "AATGACCCAGCTCTGG-L8TX_210729_01_F12-1153814344                   Sncg_8   \n",
      "\n",
      "                                                Supertype  \\\n",
      "exp_component_name                                          \n",
      "AGAAGTAGTGCTGCAC-L8TX_210430_01_H04-1142430420    L6 IT_2   \n",
      "ATTCCTAGTATCGAGG-L8TX_210430_01_H04-1142430420    Pvalb_2   \n",
      "ATTGTTCAGACCTCCG-L8TX_210430_01_H04-1142430420  L2/3 IT_1   \n",
      "TGCTCCACACACAGCC-L8TX_210430_01_H04-1142430420  L2/3 IT_5   \n",
      "CAGTACCCAGGCTACT-L8XR_210812_01_F11-1124987484    L6 IT_2   \n",
      "...                                                   ...   \n",
      "AATGACCGTAGTTACC-L8TX_210729_01_F12-1153814344  L5/6 NP_1   \n",
      "GGGATCCAGAAGCTGC-L8TX_210729_01_F12-1153814344  L2/3 IT_6   \n",
      "GCTCAAATCCCTGTTG-L8TX_210729_01_F12-1153814344     Vip_13   \n",
      "CATGGTATCCAGCAAT-L8TX_210812_01_A10-1153814350  L2/3 IT_5   \n",
      "AATGACCCAGCTCTGG-L8TX_210729_01_F12-1153814344     Sncg_8   \n",
      "\n",
      "                                               Continuous Pseudo-progression Score  \\\n",
      "exp_component_name                                                                   \n",
      "AGAAGTAGTGCTGCAC-L8TX_210430_01_H04-1142430420                            0.206549   \n",
      "ATTCCTAGTATCGAGG-L8TX_210430_01_H04-1142430420                            0.206549   \n",
      "ATTGTTCAGACCTCCG-L8TX_210430_01_H04-1142430420                            0.206549   \n",
      "TGCTCCACACACAGCC-L8TX_210430_01_H04-1142430420                            0.206549   \n",
      "CAGTACCCAGGCTACT-L8XR_210812_01_F11-1124987484                            0.206549   \n",
      "...                                                                            ...   \n",
      "AATGACCGTAGTTACC-L8TX_210729_01_F12-1153814344                            0.303751   \n",
      "GGGATCCAGAAGCTGC-L8TX_210729_01_F12-1153814344                            0.303751   \n",
      "GCTCAAATCCCTGTTG-L8TX_210729_01_F12-1153814344                            0.303751   \n",
      "CATGGTATCCAGCAAT-L8TX_210812_01_A10-1153814350                            0.303751   \n",
      "AATGACCCAGCTCTGG-L8TX_210729_01_F12-1153814344                            0.303751   \n",
      "\n",
      "                                               Severely Affected Donor  \\\n",
      "exp_component_name                                                       \n",
      "AGAAGTAGTGCTGCAC-L8TX_210430_01_H04-1142430420                       N   \n",
      "ATTCCTAGTATCGAGG-L8TX_210430_01_H04-1142430420                       N   \n",
      "ATTGTTCAGACCTCCG-L8TX_210430_01_H04-1142430420                       N   \n",
      "TGCTCCACACACAGCC-L8TX_210430_01_H04-1142430420                       N   \n",
      "CAGTACCCAGGCTACT-L8XR_210812_01_F11-1124987484                       N   \n",
      "...                                                                ...   \n",
      "AATGACCGTAGTTACC-L8TX_210729_01_F12-1153814344                       N   \n",
      "GGGATCCAGAAGCTGC-L8TX_210729_01_F12-1153814344                       N   \n",
      "GCTCAAATCCCTGTTG-L8TX_210729_01_F12-1153814344                       N   \n",
      "CATGGTATCCAGCAAT-L8TX_210812_01_A10-1153814350                       N   \n",
      "AATGACCCAGCTCTGG-L8TX_210729_01_F12-1153814344                       N   \n",
      "\n",
      "                                               donor_id  genotype  \n",
      "exp_component_name                                                 \n",
      "AGAAGTAGTGCTGCAC-L8TX_210430_01_H04-1142430420        0         0  \n",
      "ATTCCTAGTATCGAGG-L8TX_210430_01_H04-1142430420        0         0  \n",
      "ATTGTTCAGACCTCCG-L8TX_210430_01_H04-1142430420        0         0  \n",
      "TGCTCCACACACAGCC-L8TX_210430_01_H04-1142430420        0         0  \n",
      "CAGTACCCAGGCTACT-L8XR_210812_01_F11-1124987484        0         0  \n",
      "...                                                 ...       ...  \n",
      "AATGACCGTAGTTACC-L8TX_210729_01_F12-1153814344       88         0  \n",
      "GGGATCCAGAAGCTGC-L8TX_210729_01_F12-1153814344       88         0  \n",
      "GCTCAAATCCCTGTTG-L8TX_210729_01_F12-1153814344       88         0  \n",
      "CATGGTATCCAGCAAT-L8TX_210812_01_A10-1153814350       88         0  \n",
      "AATGACCCAGCTCTGG-L8TX_210729_01_F12-1153814344       88         0  \n",
      "\n",
      "[1240908 rows x 137 columns]\n"
     ]
    }
   ],
   "source": [
    "os.environ[\"Hdata5_PLUGIN_PATH\"] = hdf5plugin.PLUGIN_PATH\n",
    "data = sc.read_h5ad(\"combined_corrected.h5ad\")\n",
    "print(data.obs)"
   ]
  },
  {
   "cell_type": "code",
   "execution_count": 3,
   "metadata": {
    "id": "9uCZGQI34Y_j"
   },
   "outputs": [
    {
     "data": {
      "text/plain": [
       "Index(['sample_id', 'Neurotypical reference', 'Donor ID', 'Organism',\n",
       "       'Brain Region', 'Sex', 'Gender', 'Age at Death', 'Race (choice=White)',\n",
       "       'Race (choice=Black/ African American)',\n",
       "       ...\n",
       "       'Class', 'Subclass confidence', 'Subclass', 'Supertype confidence',\n",
       "       'Supertype (non-expanded)', 'Supertype',\n",
       "       'Continuous Pseudo-progression Score', 'Severely Affected Donor',\n",
       "       'donor_id', 'genotype'],\n",
       "      dtype='object', length=137)"
      ]
     },
     "execution_count": 3,
     "metadata": {},
     "output_type": "execute_result"
    }
   ],
   "source": [
    "data.obs.columns"
   ]
  },
  {
   "cell_type": "code",
   "execution_count": 5,
   "metadata": {},
   "outputs": [
    {
     "data": {
      "text/plain": [
       "(1240908, 2000)"
      ]
     },
     "execution_count": 5,
     "metadata": {},
     "output_type": "execute_result"
    }
   ],
   "source": [
    "data.shape"
   ]
  },
  {
   "cell_type": "code",
   "execution_count": 6,
   "metadata": {},
   "outputs": [
    {
     "data": {
      "text/plain": [
       "Index(['RSRC1', 'RNGTT', 'LIMS1', 'MAPK1', 'KIZ', 'SACS', 'RNF180', 'TRA2A',\n",
       "       'MRPS30-DT', 'RAB3IP',\n",
       "       ...\n",
       "       'RBFOX1', 'IQCJ-SCHIP1', 'SGCZ', 'CNTN5', 'RALYL', 'DPP10', 'ADARB2',\n",
       "       'ROBO2', 'KCNIP4', 'ERBB4'],\n",
       "      dtype='object', length=2000)"
      ]
     },
     "execution_count": 6,
     "metadata": {},
     "output_type": "execute_result"
    }
   ],
   "source": [
    "data.var_names"
   ]
  },
  {
   "cell_type": "markdown",
   "metadata": {},
   "source": [
    "# Marker Gene Define"
   ]
  },
  {
   "cell_type": "code",
   "execution_count": 9,
   "metadata": {},
   "outputs": [
    {
     "name": "stdout",
     "output_type": "stream",
     "text": [
      "For cell type 'Astrocytes', missing genes: ['GFAP', 'AQP4', 'GJA1', 'FGFR3', 'NKAIN4', 'AGT', 'PLXNB1']\n",
      "For cell type 'Endothelial cells', missing genes: ['CLDN5', 'VWF']\n",
      "For cell type 'Excitatory neurons', missing genes: ['SLC17A6', 'SLC17A7']\n",
      "For cell type 'Microglia', missing genes: ['P2RY12', 'CSF1R', 'C3', 'CX3CR1']\n",
      "For cell type 'Oligodendrocytes', missing genes: ['OLIG2', 'MYRF', 'MAG']\n",
      "For cell type 'Oligodendrocyte precursor cells', missing genes: ['SOX8']\n",
      "For cell type 'Pericytes', missing genes: ['AMBP', 'HIGD1B', 'PTH1R']\n",
      "{'Astrocytes': ['SLC1A2', 'SLC1A3'], 'Endothelial cells': [], 'Neurons': ['GLS', 'RBFOX3', 'CAMK2A'], 'Excitatory neurons': ['SATB2'], 'Inhibitory neurons': ['GAD1', 'GAD2'], 'Microglia': [], 'Oligodendrocytes': ['MBP', 'MOBP', 'PLP1'], 'Oligodendrocyte precursor cells': ['VCAN'], 'Pericytes': []}\n"
     ]
    }
   ],
   "source": [
    "# marker gene from \n",
    "# Wang, C., Nat Commun 15, 4710 (2024). https://doi.org/10.1038/s41467-024-49133-z\n",
    "\n",
    "cell_type_markers = {\n",
    "    \"Astrocytes\": [\"GFAP\", \"AQP4\", \"GJA1\", \"SLC1A2\", \"FGFR3\", \"NKAIN4\", \"AGT\", \"PLXNB1\", \"SLC1A3\"],\n",
    "    \"Endothelial cells\": [\"CLDN5\", \"VWF\"],\n",
    "    \"Neurons\": [\"GLS\", \"RBFOX3\", \"CAMK2A\"],\n",
    "    \"Excitatory neurons\": [\"SLC17A6\", \"SLC17A7\", \"SATB2\"],\n",
    "    \"Inhibitory neurons\": [\"GAD1\", \"GAD2\"],\n",
    "    \"Microglia\": [\"P2RY12\", \"CSF1R\", \"C3\", \"CX3CR1\"],\n",
    "    \"Oligodendrocytes\": [\"OLIG2\", \"MBP\", \"MOBP\", \"PLP1\", \"MYRF\", \"MAG\"],\n",
    "    \"Oligodendrocyte precursor cells\": [\"VCAN\", \"SOX8\"],\n",
    "    \"Pericytes\": [\"AMBP\", \"HIGD1B\", \"PTH1R\"]\n",
    "}\n",
    "\n",
    "# Dictionary to store the updated list of markers (i.e., markers that exist in adata.var_names)\n",
    "updated_markers = {}\n",
    "\n",
    "# Loop over each cell type and check for the presence of each marker gene in adata.var_names\n",
    "for cell_type, genes in cell_type_markers.items():\n",
    "    present_genes = [gene for gene in genes if gene in data.var_names]\n",
    "    missing_genes = [gene for gene in genes if gene not in data.var_names]\n",
    "    \n",
    "    # Optionally print which genes are missing per cell type:\n",
    "    if missing_genes:\n",
    "        print(f\"For cell type '{cell_type}', missing genes: {missing_genes}\")\n",
    "    \n",
    "    updated_markers[cell_type] = present_genes\n",
    "print(updated_markers)"
   ]
  },
  {
   "cell_type": "code",
   "execution_count": 21,
   "metadata": {},
   "outputs": [],
   "source": [
    "# create a subset of data to only include the marker genes\n",
    "marker_genes = [\n",
    "    \"GFAP\", \"AQP4\", \"GJA1\", \"SLC1A2\", \"FGFR3\", \"NKAIN4\", \"AGT\", \"PLXNB1\", \"SLC1A3\",  # Astrocytes\n",
    "    \"CLDN5\", \"VWF\",                                                                # Endothelial cells\n",
    "    \"GLS\", \"RBFOX3\", \"CAMK2A\",                                                      # Neurons\n",
    "    \"SLC17A6\", \"SLC17A7\", \"SATB2\",                                                   # Excitatory neurons\n",
    "    \"GAD1\", \"GAD2\",                                                                # Inhibitory neurons\n",
    "    \"P2RY12\", \"CSF1R\", \"C3\", \"CX3CR1\",                                               # Microglia\n",
    "    \"OLIG2\", \"MBP\", \"MOBP\", \"PLP1\", \"MYRF\", \"MAG\",                                  # Oligodendrocytes\n",
    "    \"VCAN\", \"SOX8\",                                                                # Oligodendrocyte precursor cells\n",
    "    \"AMBP\", \"HIGD1B\", \"PTH1R\"                                                       # Pericytes\n",
    "]\n",
    "valid_marker_genes = [gene for gene in marker_genes if gene in data.var_names]\n",
    "subset_data = data[:, valid_marker_genes].copy()"
   ]
  },
  {
   "cell_type": "code",
   "execution_count": 22,
   "metadata": {},
   "outputs": [
    {
     "data": {
      "text/plain": [
       "(1240908, 12)"
      ]
     },
     "execution_count": 22,
     "metadata": {},
     "output_type": "execute_result"
    }
   ],
   "source": [
    "subset_data.X.shape"
   ]
  },
  {
   "cell_type": "code",
   "execution_count": 23,
   "metadata": {},
   "outputs": [],
   "source": [
    "# k-means cluster\n",
    "    \n",
    "def distance(centroid, x): \n",
    "    # centroid and x are nparray  \n",
    "    return np.sum((centroid - x)**2)\n",
    "\n",
    "def clustering(centroids, x): \n",
    "    # centroids and x are nparray\n",
    "    dis = [distance(centroid, x) for centroid in centroids] \n",
    "    idx = np.argmin(dis) \n",
    "    return idx, dis[idx] # return to the centroid index\n",
    "\n",
    "def update(cluster): \n",
    "    # cluster is an ndarray that contains a list of points'coordinates \n",
    "    if len(cluster) == 0:\n",
    "        return None  \n",
    "    return np.mean(cluster, axis=0) \n",
    "\n",
    "def subdata(k): \n",
    "    return [[] for _ in range(k)]\n",
    "\n",
    "def k_means(X, k, max_iterations=1000, random_state=42, tol=1e-4):\n",
    "    \"\"\"\n",
    "    Perform k-means clustering on data X using custom functions.\n",
    "    \n",
    "    Parameters:\n",
    "      X: np.ndarray\n",
    "         Data matrix of shape (n_samples, n_features).\n",
    "      k: int\n",
    "         Number of clusters.\n",
    "      max_iterations: int\n",
    "         Maximum number of iterations.\n",
    "      random_state: int\n",
    "         Seed for reproducibility.\n",
    "      tol: float\n",
    "         Tolerance for convergence.\n",
    "         \n",
    "    Returns:\n",
    "      centroids: np.ndarray\n",
    "         Final centroids.\n",
    "      cluster_assignments: list\n",
    "         Cluster index for each sample.\n",
    "    \"\"\"\n",
    "    np.random.seed(random_state)\n",
    "    # Initialize centroids by randomly selecting k samples from X\n",
    "    initial_indices = np.random.choice(X.shape[0], size=k, replace=False)\n",
    "    centroids = X[initial_indices]\n",
    "\n",
    "    for iteration in range(max_iterations):\n",
    "        clusters = subdata(k)\n",
    "        cluster_assignments = []\n",
    "        \n",
    "        # Assignment step: assign each sample to the closest centroid.\n",
    "        for sample in X:\n",
    "            idx, _ = clustering(centroids, sample)\n",
    "            clusters[idx].append(sample)\n",
    "            cluster_assignments.append(idx)\n",
    "        \n",
    "        # Update step: recalculate centroids\n",
    "        new_centroids = []\n",
    "        for cluster in clusters:\n",
    "            new_centroid = update(np.array(cluster))\n",
    "            if new_centroid is None:\n",
    "                # Reinitialize empty clusters with a random sample from X\n",
    "                new_centroid = X[np.random.choice(X.shape[0])]\n",
    "            new_centroids.append(new_centroid)\n",
    "        new_centroids = np.array(new_centroids)\n",
    "        \n",
    "        # Check convergence: if centroids do not change more than tol\n",
    "        if np.allclose(centroids, new_centroids, atol=tol):\n",
    "            print(f\"Converged at iteration {iteration}\")\n",
    "            break\n",
    "        centroids = new_centroids\n",
    "        \n",
    "    return centroids, cluster_assignments"
   ]
  },
  {
   "cell_type": "code",
   "execution_count": 25,
   "metadata": {},
   "outputs": [
    {
     "name": "stdout",
     "output_type": "stream",
     "text": [
      "Converged at iteration 12\n",
      "Cluster assignments (first 10 cells): [np.int64(5), np.int64(2), np.int64(4), np.int64(1), np.int64(4), np.int64(5), np.int64(3), np.int64(4), np.int64(1), np.int64(5)]\n",
      "New shape of expression matrix with cluster labels: (1240908, 13)\n"
     ]
    }
   ],
   "source": [
    "X = subset_data.X\n",
    "if hasattr(X, \"toarray\"):\n",
    "    X = X.toarray()\n",
    "\n",
    "k = 6 # 6 clusters since some clusters has no gene included in the 2000-highest variable genes \n",
    "centroids, cluster_assignments = k_means(X, k, max_iterations=1000, random_state=42)\n",
    "print(\"Cluster assignments (first 10 cells):\", cluster_assignments[:10])\n",
    "\n",
    "# -----------------------------\n",
    "# Append the Cluster Label as a New (Last) Column of the Expression Matrix\n",
    "# -----------------------------\n",
    "# Convert the list of cluster assignments to a column vector\n",
    "cluster_labels = np.array(cluster_assignments).reshape(-1, 1)\n",
    "# Horizontally stack the cluster label column to the expression matrix X\n",
    "X_with_labels = np.hstack([X, cluster_labels])\n",
    "print(\"New shape of expression matrix with cluster labels:\", X_with_labels.shape)\n",
    "\n",
    "# Optionally, you might want to store the cluster labels in the AnnData object’s .obs\n",
    "subset_data.obs['cluster_label'] = cluster_assignments"
   ]
  },
  {
   "cell_type": "code",
   "execution_count": 27,
   "metadata": {},
   "outputs": [
    {
     "name": "stdout",
     "output_type": "stream",
     "text": [
      "Cluster to cell type mapping:\n",
      "Cluster 0: Astrocytes\n",
      "Cluster 1: Excitatory neurons\n",
      "Cluster 2: Inhibitory neurons\n",
      "Cluster 3: Oligodendrocytes\n",
      "Cluster 4: Excitatory neurons\n",
      "Cluster 5: Excitatory neurons\n"
     ]
    }
   ],
   "source": [
    "cell_type_markers = {\n",
    "    \"Astrocytes\": [\"GFAP\", \"AQP4\", \"GJA1\", \"SLC1A2\", \"FGFR3\", \"NKAIN4\", \"AGT\", \"PLXNB1\", \"SLC1A3\"],\n",
    "    \"Endothelial cells\": [\"CLDN5\", \"VWF\"],\n",
    "    \"Neurons\": [\"GLS\", \"RBFOX3\", \"CAMK2A\"],\n",
    "    \"Excitatory neurons\": [\"SLC17A6\", \"SLC17A7\", \"SATB2\"],\n",
    "    \"Inhibitory neurons\": [\"GAD1\", \"GAD2\"],\n",
    "    \"Microglia\": [\"P2RY12\", \"CSF1R\", \"C3\", \"CX3CR1\"],\n",
    "    \"Oligodendrocytes\": [\"OLIG2\", \"MBP\", \"MOBP\", \"PLP1\", \"MYRF\", \"MAG\"],\n",
    "    \"Oligodendrocyte precursor cells\": [\"VCAN\", \"SOX8\"],\n",
    "    \"Pericytes\": [\"AMBP\", \"HIGD1B\", \"PTH1R\"]\n",
    "}\n",
    "\n",
    "# Create a mapping from gene to its column index in your subset matrix.\n",
    "# Assume valid_marker_genes is your list of marker genes present in the data.\n",
    "gene_to_index = {gene: idx for idx, gene in enumerate(valid_marker_genes)}\n",
    "\n",
    "# Example centroids produced from your k_means_custom function, \n",
    "# where centroids is an array of shape (n_clusters, len(valid_marker_genes))\n",
    "# For demonstration, assume centroids is already computed:\n",
    "# centroids = ... (from k_means_custom)\n",
    "\n",
    "# Now, assign a cell type to each cluster based on the centroid's marker expression.\n",
    "cluster_cell_type_assignment = {}\n",
    "\n",
    "for cluster_idx, centroid in enumerate(centroids):\n",
    "    scores = {}\n",
    "    # For each cell type, calculate the average expression of its markers in the centroid.\n",
    "    for cell_type, markers in cell_type_markers.items():\n",
    "        # Only consider markers that are in your valid_marker_genes.\n",
    "        markers_in_data = [gene for gene in markers if gene in gene_to_index]\n",
    "        if markers_in_data:\n",
    "            # Get the indices corresponding to these marker genes.\n",
    "            indices = [gene_to_index[gene] for gene in markers_in_data]\n",
    "            # Calculate the average expression (or sum) for these marker genes.\n",
    "            score = np.mean(centroid[indices])\n",
    "            scores[cell_type] = score\n",
    "    # If any scores were computed, pick the cell type with the highest score.\n",
    "    if scores:\n",
    "        assigned_cell_type = max(scores, key=scores.get)\n",
    "    else:\n",
    "        assigned_cell_type = \"Unknown\"\n",
    "    cluster_cell_type_assignment[cluster_idx] = assigned_cell_type\n",
    "\n",
    "# Print out the mapping from cluster number to cell type.\n",
    "print(\"Cluster to cell type mapping:\")\n",
    "for cluster, cell_type in cluster_cell_type_assignment.items():\n",
    "    print(f\"Cluster {cluster}: {cell_type}\")"
   ]
  },
  {
   "cell_type": "code",
   "execution_count": 31,
   "metadata": {},
   "outputs": [],
   "source": [
    "subset_data.obs[\"cluster_label\"] = subset_data.obs[\"cluster_label\"].replace({4: 1, 5: 1})\n",
    "\n",
    "df = pd.DataFrame({\n",
    "    \"sample_id\": subset_data.obs_names,\n",
    "    \"cell_type\": subset_data.obs[\"cluster_label\"]\n",
    "})\n",
    "\n",
    "# Save the DataFrame to a CSV file\n",
    "output_csv = \"sample_cell_types.csv\"\n",
    "df.to_csv(output_csv, index=False)"
   ]
  },
  {
   "cell_type": "code",
   "execution_count": 32,
   "metadata": {},
   "outputs": [
    {
     "name": "stdout",
     "output_type": "stream",
     "text": [
      "Count of cells in each cell type:\n",
      "cluster_label\n",
      "1    700188\n",
      "2    295688\n",
      "0    137210\n",
      "3    107822\n",
      "Name: count, dtype: int64\n"
     ]
    }
   ],
   "source": [
    "cell_type_counts = subset_data.obs[\"cluster_label\"].value_counts()\n",
    "\n",
    "# Print the counts\n",
    "print(\"Count of cells in each cell type:\")\n",
    "print(cell_type_counts)"
   ]
  },
  {
   "cell_type": "code",
   "execution_count": 33,
   "metadata": {},
   "outputs": [
    {
     "data": {
      "text/plain": [
       "Index(['sample_id', 'Neurotypical reference', 'Donor ID', 'Organism',\n",
       "       'Brain Region', 'Sex', 'Gender', 'Age at Death', 'Race (choice=White)',\n",
       "       'Race (choice=Black/ African American)',\n",
       "       ...\n",
       "       'Class', 'Subclass confidence', 'Subclass', 'Supertype confidence',\n",
       "       'Supertype (non-expanded)', 'Supertype',\n",
       "       'Continuous Pseudo-progression Score', 'Severely Affected Donor',\n",
       "       'donor_id', 'genotype'],\n",
       "      dtype='object', length=137)"
      ]
     },
     "execution_count": 33,
     "metadata": {},
     "output_type": "execute_result"
    }
   ],
   "source": [
    "data.obs.columns"
   ]
  },
  {
   "cell_type": "code",
   "execution_count": 35,
   "metadata": {},
   "outputs": [],
   "source": [
    "if hasattr(data.X, \"toarray\"):\n",
    "    X_dense = data.X.toarray()\n",
    "else:\n",
    "    X_dense = data.X\n",
    "\n",
    "# Create a DataFrame from the expression matrix. \n",
    "# Rows are labeled by sample IDs (adata.obs_names) and columns by gene names (adata.var_names).\n",
    "df_expr = pd.DataFrame(X_dense, index=data.obs_names, columns=data.var_names)\n",
    "\n",
    "# Optionally, if you prefer the sample IDs to be a column instead of the index:\n",
    "df_expr = df_expr.reset_index().rename(columns={\"index\": \"sample_id\"})\n"
   ]
  },
  {
   "cell_type": "code",
   "execution_count": 36,
   "metadata": {},
   "outputs": [],
   "source": [
    "df_expr[\"Donor ID\"] = data.obs[\"Donor ID\"].values"
   ]
  },
  {
   "cell_type": "code",
   "execution_count": 37,
   "metadata": {},
   "outputs": [
    {
     "ename": "KeyboardInterrupt",
     "evalue": "",
     "output_type": "error",
     "traceback": [
      "\u001b[31m---------------------------------------------------------------------------\u001b[39m",
      "\u001b[31mKeyboardInterrupt\u001b[39m                         Traceback (most recent call last)",
      "\u001b[36mCell\u001b[39m\u001b[36m \u001b[39m\u001b[32mIn[37]\u001b[39m\u001b[32m, line 1\u001b[39m\n\u001b[32m----> \u001b[39m\u001b[32m1\u001b[39m \u001b[43mdf_expr\u001b[49m\u001b[43m.\u001b[49m\u001b[43mto_csv\u001b[49m\u001b[43m(\u001b[49m\u001b[33;43m\"\u001b[39;49m\u001b[33;43mcell_type_expression.csv\u001b[39;49m\u001b[33;43m\"\u001b[39;49m\u001b[43m)\u001b[49m\n",
      "\u001b[36mFile \u001b[39m\u001b[32m~/Library/Python/3.13/lib/python/site-packages/pandas/util/_decorators.py:333\u001b[39m, in \u001b[36mdeprecate_nonkeyword_arguments.<locals>.decorate.<locals>.wrapper\u001b[39m\u001b[34m(*args, **kwargs)\u001b[39m\n\u001b[32m    327\u001b[39m \u001b[38;5;28;01mif\u001b[39;00m \u001b[38;5;28mlen\u001b[39m(args) > num_allow_args:\n\u001b[32m    328\u001b[39m     warnings.warn(\n\u001b[32m    329\u001b[39m         msg.format(arguments=_format_argument_list(allow_args)),\n\u001b[32m    330\u001b[39m         \u001b[38;5;167;01mFutureWarning\u001b[39;00m,\n\u001b[32m    331\u001b[39m         stacklevel=find_stack_level(),\n\u001b[32m    332\u001b[39m     )\n\u001b[32m--> \u001b[39m\u001b[32m333\u001b[39m \u001b[38;5;28;01mreturn\u001b[39;00m \u001b[43mfunc\u001b[49m\u001b[43m(\u001b[49m\u001b[43m*\u001b[49m\u001b[43margs\u001b[49m\u001b[43m,\u001b[49m\u001b[43m \u001b[49m\u001b[43m*\u001b[49m\u001b[43m*\u001b[49m\u001b[43mkwargs\u001b[49m\u001b[43m)\u001b[49m\n",
      "\u001b[36mFile \u001b[39m\u001b[32m~/Library/Python/3.13/lib/python/site-packages/pandas/core/generic.py:3967\u001b[39m, in \u001b[36mNDFrame.to_csv\u001b[39m\u001b[34m(self, path_or_buf, sep, na_rep, float_format, columns, header, index, index_label, mode, encoding, compression, quoting, quotechar, lineterminator, chunksize, date_format, doublequote, escapechar, decimal, errors, storage_options)\u001b[39m\n\u001b[32m   3956\u001b[39m df = \u001b[38;5;28mself\u001b[39m \u001b[38;5;28;01mif\u001b[39;00m \u001b[38;5;28misinstance\u001b[39m(\u001b[38;5;28mself\u001b[39m, ABCDataFrame) \u001b[38;5;28;01melse\u001b[39;00m \u001b[38;5;28mself\u001b[39m.to_frame()\n\u001b[32m   3958\u001b[39m formatter = DataFrameFormatter(\n\u001b[32m   3959\u001b[39m     frame=df,\n\u001b[32m   3960\u001b[39m     header=header,\n\u001b[32m   (...)\u001b[39m\u001b[32m   3964\u001b[39m     decimal=decimal,\n\u001b[32m   3965\u001b[39m )\n\u001b[32m-> \u001b[39m\u001b[32m3967\u001b[39m \u001b[38;5;28;01mreturn\u001b[39;00m \u001b[43mDataFrameRenderer\u001b[49m\u001b[43m(\u001b[49m\u001b[43mformatter\u001b[49m\u001b[43m)\u001b[49m\u001b[43m.\u001b[49m\u001b[43mto_csv\u001b[49m\u001b[43m(\u001b[49m\n\u001b[32m   3968\u001b[39m \u001b[43m    \u001b[49m\u001b[43mpath_or_buf\u001b[49m\u001b[43m,\u001b[49m\n\u001b[32m   3969\u001b[39m \u001b[43m    \u001b[49m\u001b[43mlineterminator\u001b[49m\u001b[43m=\u001b[49m\u001b[43mlineterminator\u001b[49m\u001b[43m,\u001b[49m\n\u001b[32m   3970\u001b[39m \u001b[43m    \u001b[49m\u001b[43msep\u001b[49m\u001b[43m=\u001b[49m\u001b[43msep\u001b[49m\u001b[43m,\u001b[49m\n\u001b[32m   3971\u001b[39m \u001b[43m    \u001b[49m\u001b[43mencoding\u001b[49m\u001b[43m=\u001b[49m\u001b[43mencoding\u001b[49m\u001b[43m,\u001b[49m\n\u001b[32m   3972\u001b[39m \u001b[43m    \u001b[49m\u001b[43merrors\u001b[49m\u001b[43m=\u001b[49m\u001b[43merrors\u001b[49m\u001b[43m,\u001b[49m\n\u001b[32m   3973\u001b[39m \u001b[43m    \u001b[49m\u001b[43mcompression\u001b[49m\u001b[43m=\u001b[49m\u001b[43mcompression\u001b[49m\u001b[43m,\u001b[49m\n\u001b[32m   3974\u001b[39m \u001b[43m    \u001b[49m\u001b[43mquoting\u001b[49m\u001b[43m=\u001b[49m\u001b[43mquoting\u001b[49m\u001b[43m,\u001b[49m\n\u001b[32m   3975\u001b[39m \u001b[43m    \u001b[49m\u001b[43mcolumns\u001b[49m\u001b[43m=\u001b[49m\u001b[43mcolumns\u001b[49m\u001b[43m,\u001b[49m\n\u001b[32m   3976\u001b[39m \u001b[43m    \u001b[49m\u001b[43mindex_label\u001b[49m\u001b[43m=\u001b[49m\u001b[43mindex_label\u001b[49m\u001b[43m,\u001b[49m\n\u001b[32m   3977\u001b[39m \u001b[43m    \u001b[49m\u001b[43mmode\u001b[49m\u001b[43m=\u001b[49m\u001b[43mmode\u001b[49m\u001b[43m,\u001b[49m\n\u001b[32m   3978\u001b[39m \u001b[43m    \u001b[49m\u001b[43mchunksize\u001b[49m\u001b[43m=\u001b[49m\u001b[43mchunksize\u001b[49m\u001b[43m,\u001b[49m\n\u001b[32m   3979\u001b[39m \u001b[43m    \u001b[49m\u001b[43mquotechar\u001b[49m\u001b[43m=\u001b[49m\u001b[43mquotechar\u001b[49m\u001b[43m,\u001b[49m\n\u001b[32m   3980\u001b[39m \u001b[43m    \u001b[49m\u001b[43mdate_format\u001b[49m\u001b[43m=\u001b[49m\u001b[43mdate_format\u001b[49m\u001b[43m,\u001b[49m\n\u001b[32m   3981\u001b[39m \u001b[43m    \u001b[49m\u001b[43mdoublequote\u001b[49m\u001b[43m=\u001b[49m\u001b[43mdoublequote\u001b[49m\u001b[43m,\u001b[49m\n\u001b[32m   3982\u001b[39m \u001b[43m    \u001b[49m\u001b[43mescapechar\u001b[49m\u001b[43m=\u001b[49m\u001b[43mescapechar\u001b[49m\u001b[43m,\u001b[49m\n\u001b[32m   3983\u001b[39m \u001b[43m    \u001b[49m\u001b[43mstorage_options\u001b[49m\u001b[43m=\u001b[49m\u001b[43mstorage_options\u001b[49m\u001b[43m,\u001b[49m\n\u001b[32m   3984\u001b[39m \u001b[43m\u001b[49m\u001b[43m)\u001b[49m\n",
      "\u001b[36mFile \u001b[39m\u001b[32m~/Library/Python/3.13/lib/python/site-packages/pandas/io/formats/format.py:1014\u001b[39m, in \u001b[36mDataFrameRenderer.to_csv\u001b[39m\u001b[34m(self, path_or_buf, encoding, sep, columns, index_label, mode, compression, quoting, quotechar, lineterminator, chunksize, date_format, doublequote, escapechar, errors, storage_options)\u001b[39m\n\u001b[32m    993\u001b[39m     created_buffer = \u001b[38;5;28;01mFalse\u001b[39;00m\n\u001b[32m    995\u001b[39m csv_formatter = CSVFormatter(\n\u001b[32m    996\u001b[39m     path_or_buf=path_or_buf,\n\u001b[32m    997\u001b[39m     lineterminator=lineterminator,\n\u001b[32m   (...)\u001b[39m\u001b[32m   1012\u001b[39m     formatter=\u001b[38;5;28mself\u001b[39m.fmt,\n\u001b[32m   1013\u001b[39m )\n\u001b[32m-> \u001b[39m\u001b[32m1014\u001b[39m \u001b[43mcsv_formatter\u001b[49m\u001b[43m.\u001b[49m\u001b[43msave\u001b[49m\u001b[43m(\u001b[49m\u001b[43m)\u001b[49m\n\u001b[32m   1016\u001b[39m \u001b[38;5;28;01mif\u001b[39;00m created_buffer:\n\u001b[32m   1017\u001b[39m     \u001b[38;5;28;01massert\u001b[39;00m \u001b[38;5;28misinstance\u001b[39m(path_or_buf, StringIO)\n",
      "\u001b[36mFile \u001b[39m\u001b[32m~/Library/Python/3.13/lib/python/site-packages/pandas/io/formats/csvs.py:270\u001b[39m, in \u001b[36mCSVFormatter.save\u001b[39m\u001b[34m(self)\u001b[39m\n\u001b[32m    251\u001b[39m \u001b[38;5;28;01mwith\u001b[39;00m get_handle(\n\u001b[32m    252\u001b[39m     \u001b[38;5;28mself\u001b[39m.filepath_or_buffer,\n\u001b[32m    253\u001b[39m     \u001b[38;5;28mself\u001b[39m.mode,\n\u001b[32m   (...)\u001b[39m\u001b[32m    258\u001b[39m ) \u001b[38;5;28;01mas\u001b[39;00m handles:\n\u001b[32m    259\u001b[39m     \u001b[38;5;66;03m# Note: self.encoding is irrelevant here\u001b[39;00m\n\u001b[32m    260\u001b[39m     \u001b[38;5;28mself\u001b[39m.writer = csvlib.writer(\n\u001b[32m    261\u001b[39m         handles.handle,\n\u001b[32m    262\u001b[39m         lineterminator=\u001b[38;5;28mself\u001b[39m.lineterminator,\n\u001b[32m   (...)\u001b[39m\u001b[32m    267\u001b[39m         quotechar=\u001b[38;5;28mself\u001b[39m.quotechar,\n\u001b[32m    268\u001b[39m     )\n\u001b[32m--> \u001b[39m\u001b[32m270\u001b[39m     \u001b[38;5;28;43mself\u001b[39;49m\u001b[43m.\u001b[49m\u001b[43m_save\u001b[49m\u001b[43m(\u001b[49m\u001b[43m)\u001b[49m\n",
      "\u001b[36mFile \u001b[39m\u001b[32m~/Library/Python/3.13/lib/python/site-packages/pandas/io/formats/csvs.py:275\u001b[39m, in \u001b[36mCSVFormatter._save\u001b[39m\u001b[34m(self)\u001b[39m\n\u001b[32m    273\u001b[39m \u001b[38;5;28;01mif\u001b[39;00m \u001b[38;5;28mself\u001b[39m._need_to_save_header:\n\u001b[32m    274\u001b[39m     \u001b[38;5;28mself\u001b[39m._save_header()\n\u001b[32m--> \u001b[39m\u001b[32m275\u001b[39m \u001b[38;5;28;43mself\u001b[39;49m\u001b[43m.\u001b[49m\u001b[43m_save_body\u001b[49m\u001b[43m(\u001b[49m\u001b[43m)\u001b[49m\n",
      "\u001b[36mFile \u001b[39m\u001b[32m~/Library/Python/3.13/lib/python/site-packages/pandas/io/formats/csvs.py:313\u001b[39m, in \u001b[36mCSVFormatter._save_body\u001b[39m\u001b[34m(self)\u001b[39m\n\u001b[32m    311\u001b[39m \u001b[38;5;28;01mif\u001b[39;00m start_i >= end_i:\n\u001b[32m    312\u001b[39m     \u001b[38;5;28;01mbreak\u001b[39;00m\n\u001b[32m--> \u001b[39m\u001b[32m313\u001b[39m \u001b[38;5;28;43mself\u001b[39;49m\u001b[43m.\u001b[49m\u001b[43m_save_chunk\u001b[49m\u001b[43m(\u001b[49m\u001b[43mstart_i\u001b[49m\u001b[43m,\u001b[49m\u001b[43m \u001b[49m\u001b[43mend_i\u001b[49m\u001b[43m)\u001b[49m\n",
      "\u001b[36mFile \u001b[39m\u001b[32m~/Library/Python/3.13/lib/python/site-packages/pandas/io/formats/csvs.py:320\u001b[39m, in \u001b[36mCSVFormatter._save_chunk\u001b[39m\u001b[34m(self, start_i, end_i)\u001b[39m\n\u001b[32m    317\u001b[39m slicer = \u001b[38;5;28mslice\u001b[39m(start_i, end_i)\n\u001b[32m    318\u001b[39m df = \u001b[38;5;28mself\u001b[39m.obj.iloc[slicer]\n\u001b[32m--> \u001b[39m\u001b[32m320\u001b[39m res = \u001b[43mdf\u001b[49m\u001b[43m.\u001b[49m\u001b[43m_get_values_for_csv\u001b[49m\u001b[43m(\u001b[49m\u001b[43m*\u001b[49m\u001b[43m*\u001b[49m\u001b[38;5;28;43mself\u001b[39;49m\u001b[43m.\u001b[49m\u001b[43m_number_format\u001b[49m\u001b[43m)\u001b[49m\n\u001b[32m    321\u001b[39m data = \u001b[38;5;28mlist\u001b[39m(res._iter_column_arrays())\n\u001b[32m    323\u001b[39m ix = \u001b[38;5;28mself\u001b[39m.data_index[slicer]._get_values_for_csv(**\u001b[38;5;28mself\u001b[39m._number_format)\n",
      "\u001b[36mFile \u001b[39m\u001b[32m~/Library/Python/3.13/lib/python/site-packages/pandas/core/frame.py:1410\u001b[39m, in \u001b[36mDataFrame._get_values_for_csv\u001b[39m\u001b[34m(self, float_format, date_format, decimal, na_rep, quoting)\u001b[39m\n\u001b[32m   1400\u001b[39m \u001b[38;5;28;01mdef\u001b[39;00m\u001b[38;5;250m \u001b[39m\u001b[34m_get_values_for_csv\u001b[39m(\n\u001b[32m   1401\u001b[39m     \u001b[38;5;28mself\u001b[39m,\n\u001b[32m   1402\u001b[39m     *,\n\u001b[32m   (...)\u001b[39m\u001b[32m   1408\u001b[39m ) -> Self:\n\u001b[32m   1409\u001b[39m     \u001b[38;5;66;03m# helper used by to_csv\u001b[39;00m\n\u001b[32m-> \u001b[39m\u001b[32m1410\u001b[39m     mgr = \u001b[38;5;28;43mself\u001b[39;49m\u001b[43m.\u001b[49m\u001b[43m_mgr\u001b[49m\u001b[43m.\u001b[49m\u001b[43mget_values_for_csv\u001b[49m\u001b[43m(\u001b[49m\n\u001b[32m   1411\u001b[39m \u001b[43m        \u001b[49m\u001b[43mfloat_format\u001b[49m\u001b[43m=\u001b[49m\u001b[43mfloat_format\u001b[49m\u001b[43m,\u001b[49m\n\u001b[32m   1412\u001b[39m \u001b[43m        \u001b[49m\u001b[43mdate_format\u001b[49m\u001b[43m=\u001b[49m\u001b[43mdate_format\u001b[49m\u001b[43m,\u001b[49m\n\u001b[32m   1413\u001b[39m \u001b[43m        \u001b[49m\u001b[43mdecimal\u001b[49m\u001b[43m=\u001b[49m\u001b[43mdecimal\u001b[49m\u001b[43m,\u001b[49m\n\u001b[32m   1414\u001b[39m \u001b[43m        \u001b[49m\u001b[43mna_rep\u001b[49m\u001b[43m=\u001b[49m\u001b[43mna_rep\u001b[49m\u001b[43m,\u001b[49m\n\u001b[32m   1415\u001b[39m \u001b[43m        \u001b[49m\u001b[43mquoting\u001b[49m\u001b[43m=\u001b[49m\u001b[43mquoting\u001b[49m\u001b[43m,\u001b[49m\n\u001b[32m   1416\u001b[39m \u001b[43m    \u001b[49m\u001b[43m)\u001b[49m\n\u001b[32m   1417\u001b[39m     \u001b[38;5;66;03m# error: Incompatible return value type (got \"DataFrame\", expected \"Self\")\u001b[39;00m\n\u001b[32m   1418\u001b[39m     \u001b[38;5;28;01mreturn\u001b[39;00m \u001b[38;5;28mself\u001b[39m._constructor_from_mgr(mgr, axes=mgr.axes)\n",
      "\u001b[36mFile \u001b[39m\u001b[32m~/Library/Python/3.13/lib/python/site-packages/pandas/core/internals/managers.py:466\u001b[39m, in \u001b[36mBaseBlockManager.get_values_for_csv\u001b[39m\u001b[34m(self, float_format, date_format, decimal, na_rep, quoting)\u001b[39m\n\u001b[32m    459\u001b[39m \u001b[38;5;28;01mdef\u001b[39;00m\u001b[38;5;250m \u001b[39m\u001b[34mget_values_for_csv\u001b[39m(\n\u001b[32m    460\u001b[39m     \u001b[38;5;28mself\u001b[39m, *, float_format, date_format, decimal, na_rep: \u001b[38;5;28mstr\u001b[39m = \u001b[33m\"\u001b[39m\u001b[33mnan\u001b[39m\u001b[33m\"\u001b[39m, quoting=\u001b[38;5;28;01mNone\u001b[39;00m\n\u001b[32m    461\u001b[39m ) -> Self:\n\u001b[32m    462\u001b[39m \u001b[38;5;250m    \u001b[39m\u001b[33;03m\"\"\"\u001b[39;00m\n\u001b[32m    463\u001b[39m \u001b[33;03m    Convert values to native types (strings / python objects) that are used\u001b[39;00m\n\u001b[32m    464\u001b[39m \u001b[33;03m    in formatting (repr / csv).\u001b[39;00m\n\u001b[32m    465\u001b[39m \u001b[33;03m    \"\"\"\u001b[39;00m\n\u001b[32m--> \u001b[39m\u001b[32m466\u001b[39m     \u001b[38;5;28;01mreturn\u001b[39;00m \u001b[38;5;28;43mself\u001b[39;49m\u001b[43m.\u001b[49m\u001b[43mapply\u001b[49m\u001b[43m(\u001b[49m\n\u001b[32m    467\u001b[39m \u001b[43m        \u001b[49m\u001b[33;43m\"\u001b[39;49m\u001b[33;43mget_values_for_csv\u001b[39;49m\u001b[33;43m\"\u001b[39;49m\u001b[43m,\u001b[49m\n\u001b[32m    468\u001b[39m \u001b[43m        \u001b[49m\u001b[43mna_rep\u001b[49m\u001b[43m=\u001b[49m\u001b[43mna_rep\u001b[49m\u001b[43m,\u001b[49m\n\u001b[32m    469\u001b[39m \u001b[43m        \u001b[49m\u001b[43mquoting\u001b[49m\u001b[43m=\u001b[49m\u001b[43mquoting\u001b[49m\u001b[43m,\u001b[49m\n\u001b[32m    470\u001b[39m \u001b[43m        \u001b[49m\u001b[43mfloat_format\u001b[49m\u001b[43m=\u001b[49m\u001b[43mfloat_format\u001b[49m\u001b[43m,\u001b[49m\n\u001b[32m    471\u001b[39m \u001b[43m        \u001b[49m\u001b[43mdate_format\u001b[49m\u001b[43m=\u001b[49m\u001b[43mdate_format\u001b[49m\u001b[43m,\u001b[49m\n\u001b[32m    472\u001b[39m \u001b[43m        \u001b[49m\u001b[43mdecimal\u001b[49m\u001b[43m=\u001b[49m\u001b[43mdecimal\u001b[49m\u001b[43m,\u001b[49m\n\u001b[32m    473\u001b[39m \u001b[43m    \u001b[49m\u001b[43m)\u001b[49m\n",
      "\u001b[36mFile \u001b[39m\u001b[32m~/Library/Python/3.13/lib/python/site-packages/pandas/core/internals/managers.py:363\u001b[39m, in \u001b[36mBaseBlockManager.apply\u001b[39m\u001b[34m(self, f, align_keys, **kwargs)\u001b[39m\n\u001b[32m    361\u001b[39m         applied = b.apply(f, **kwargs)\n\u001b[32m    362\u001b[39m     \u001b[38;5;28;01melse\u001b[39;00m:\n\u001b[32m--> \u001b[39m\u001b[32m363\u001b[39m         applied = \u001b[38;5;28;43mgetattr\u001b[39;49m\u001b[43m(\u001b[49m\u001b[43mb\u001b[49m\u001b[43m,\u001b[49m\u001b[43m \u001b[49m\u001b[43mf\u001b[49m\u001b[43m)\u001b[49m\u001b[43m(\u001b[49m\u001b[43m*\u001b[49m\u001b[43m*\u001b[49m\u001b[43mkwargs\u001b[49m\u001b[43m)\u001b[49m\n\u001b[32m    364\u001b[39m     result_blocks = extend_blocks(applied, result_blocks)\n\u001b[32m    366\u001b[39m out = \u001b[38;5;28mtype\u001b[39m(\u001b[38;5;28mself\u001b[39m).from_blocks(result_blocks, \u001b[38;5;28mself\u001b[39m.axes)\n",
      "\u001b[36mFile \u001b[39m\u001b[32m~/Library/Python/3.13/lib/python/site-packages/pandas/core/internals/blocks.py:780\u001b[39m, in \u001b[36mBlock.get_values_for_csv\u001b[39m\u001b[34m(self, float_format, date_format, decimal, na_rep, quoting)\u001b[39m\n\u001b[32m    775\u001b[39m \u001b[38;5;129m@final\u001b[39m\n\u001b[32m    776\u001b[39m \u001b[38;5;28;01mdef\u001b[39;00m\u001b[38;5;250m \u001b[39m\u001b[34mget_values_for_csv\u001b[39m(\n\u001b[32m    777\u001b[39m     \u001b[38;5;28mself\u001b[39m, *, float_format, date_format, decimal, na_rep: \u001b[38;5;28mstr\u001b[39m = \u001b[33m\"\u001b[39m\u001b[33mnan\u001b[39m\u001b[33m\"\u001b[39m, quoting=\u001b[38;5;28;01mNone\u001b[39;00m\n\u001b[32m    778\u001b[39m ) -> Block:\n\u001b[32m    779\u001b[39m \u001b[38;5;250m    \u001b[39m\u001b[33;03m\"\"\"convert to our native types format\"\"\"\u001b[39;00m\n\u001b[32m--> \u001b[39m\u001b[32m780\u001b[39m     result = \u001b[43mget_values_for_csv\u001b[49m\u001b[43m(\u001b[49m\n\u001b[32m    781\u001b[39m \u001b[43m        \u001b[49m\u001b[38;5;28;43mself\u001b[39;49m\u001b[43m.\u001b[49m\u001b[43mvalues\u001b[49m\u001b[43m,\u001b[49m\n\u001b[32m    782\u001b[39m \u001b[43m        \u001b[49m\u001b[43mna_rep\u001b[49m\u001b[43m=\u001b[49m\u001b[43mna_rep\u001b[49m\u001b[43m,\u001b[49m\n\u001b[32m    783\u001b[39m \u001b[43m        \u001b[49m\u001b[43mquoting\u001b[49m\u001b[43m=\u001b[49m\u001b[43mquoting\u001b[49m\u001b[43m,\u001b[49m\n\u001b[32m    784\u001b[39m \u001b[43m        \u001b[49m\u001b[43mfloat_format\u001b[49m\u001b[43m=\u001b[49m\u001b[43mfloat_format\u001b[49m\u001b[43m,\u001b[49m\n\u001b[32m    785\u001b[39m \u001b[43m        \u001b[49m\u001b[43mdate_format\u001b[49m\u001b[43m=\u001b[49m\u001b[43mdate_format\u001b[49m\u001b[43m,\u001b[49m\n\u001b[32m    786\u001b[39m \u001b[43m        \u001b[49m\u001b[43mdecimal\u001b[49m\u001b[43m=\u001b[49m\u001b[43mdecimal\u001b[49m\u001b[43m,\u001b[49m\n\u001b[32m    787\u001b[39m \u001b[43m    \u001b[49m\u001b[43m)\u001b[49m\n\u001b[32m    788\u001b[39m     \u001b[38;5;28;01mreturn\u001b[39;00m \u001b[38;5;28mself\u001b[39m.make_block(result)\n",
      "\u001b[36mFile \u001b[39m\u001b[32m~/Library/Python/3.13/lib/python/site-packages/pandas/core/indexes/base.py:7839\u001b[39m, in \u001b[36mget_values_for_csv\u001b[39m\u001b[34m(values, date_format, na_rep, quoting, float_format, decimal)\u001b[39m\n\u001b[32m   7836\u001b[39m         values = np.array(values, dtype=\u001b[33m\"\u001b[39m\u001b[33mobject\u001b[39m\u001b[33m\"\u001b[39m)\n\u001b[32m   7838\u001b[39m     values[mask] = na_rep\n\u001b[32m-> \u001b[39m\u001b[32m7839\u001b[39m     values = \u001b[43mvalues\u001b[49m\u001b[43m.\u001b[49m\u001b[43mastype\u001b[49m\u001b[43m(\u001b[49m\u001b[38;5;28;43mobject\u001b[39;49m\u001b[43m,\u001b[49m\u001b[43m \u001b[49m\u001b[43mcopy\u001b[49m\u001b[43m=\u001b[49m\u001b[38;5;28;43;01mFalse\u001b[39;49;00m\u001b[43m)\u001b[49m\n\u001b[32m   7840\u001b[39m     \u001b[38;5;28;01mreturn\u001b[39;00m values\n\u001b[32m   7842\u001b[39m \u001b[38;5;28;01mfrom\u001b[39;00m\u001b[38;5;250m \u001b[39m\u001b[34;01mpandas\u001b[39;00m\u001b[34;01m.\u001b[39;00m\u001b[34;01mio\u001b[39;00m\u001b[34;01m.\u001b[39;00m\u001b[34;01mformats\u001b[39;00m\u001b[34;01m.\u001b[39;00m\u001b[34;01mformat\u001b[39;00m\u001b[38;5;250m \u001b[39m\u001b[38;5;28;01mimport\u001b[39;00m FloatArrayFormatter\n",
      "\u001b[31mKeyboardInterrupt\u001b[39m: "
     ]
    }
   ],
   "source": [
    "df_expr.to_csv(\"cell_type_expression.csv\")"
   ]
  },
  {
   "cell_type": "code",
   "execution_count": 45,
   "metadata": {},
   "outputs": [],
   "source": [
    "mapping_dict = dict(zip(df['sample_id'], df['cell_type']))\n",
    "\n",
    "# Step 3. Add a new column to df_expr by mapping the \"exp_component_name\" values.\n",
    "df_expr['cell_type'] = df_expr['exp_component_name'].map(mapping_dict)\n"
   ]
  },
  {
   "cell_type": "code",
   "execution_count": 46,
   "metadata": {},
   "outputs": [
    {
     "name": "stderr",
     "output_type": "stream",
     "text": [
      "/var/folders/ry/6jbvvk297rg9wwbxl4jd9vc13rt5gg/T/ipykernel_81530/792512074.py:2: FutureWarning: The default of observed=False is deprecated and will be changed to True in a future version of pandas. Pass observed=False to retain current behavior or observed=True to adopt the future default and silence this warning.\n",
      "  df_expr.groupby([\"Donor ID\", \"cell_type\"])\n",
      "/var/folders/ry/6jbvvk297rg9wwbxl4jd9vc13rt5gg/T/ipykernel_81530/792512074.py:3: DeprecationWarning: DataFrameGroupBy.apply operated on the grouping columns. This behavior is deprecated, and in a future version of pandas the grouping columns will be excluded from the operation. Either pass `include_groups=False` to exclude the groupings or explicitly select the grouping columns after groupby to silence this warning.\n",
      "  .apply(lambda x: x.sample(n=100, replace=(len(x) < 100), random_state=42))\n"
     ]
    }
   ],
   "source": [
    "sampled_df = (\n",
    "    df_expr.groupby([\"Donor ID\", \"cell_type\"])\n",
    "           .apply(lambda x: x.sample(n=100, replace=(len(x) < 100), random_state=42))\n",
    "           .reset_index(drop=True)\n",
    ")\n",
    "sampled_df.to_csv(\"sampled100.csv\")"
   ]
  },
  {
   "cell_type": "code",
   "execution_count": 50,
   "metadata": {},
   "outputs": [],
   "source": [
    "with open(\"obs_columns.txt\", \"w\") as f:\n",
    "    for col in data.obs.columns:\n",
    "        f.write(f\"{col}\\n\")"
   ]
  },
  {
   "cell_type": "code",
   "execution_count": null,
   "metadata": {},
   "outputs": [],
   "source": [
    "# cognitive index \n",
    "# real value: 'Last CASI Score', 'Last MMSE Score'\n",
    "# binary value: 'Cognitive Status'"
   ]
  },
  {
   "cell_type": "code",
   "execution_count": 57,
   "metadata": {},
   "outputs": [
    {
     "name": "stdout",
     "output_type": "stream",
     "text": [
      "exp_component_name\n",
      "AGAAGTAGTGCTGCAC-L8TX_210430_01_H04-1142430420    Not AD\n",
      "ATTCCTAGTATCGAGG-L8TX_210430_01_H04-1142430420    Not AD\n",
      "ATTGTTCAGACCTCCG-L8TX_210430_01_H04-1142430420    Not AD\n",
      "TGCTCCACACACAGCC-L8TX_210430_01_H04-1142430420    Not AD\n",
      "CAGTACCCAGGCTACT-L8XR_210812_01_F11-1124987484    Not AD\n",
      "Name: Overall AD neuropathological Change, dtype: category\n",
      "Categories (4, object): ['High', 'Intermediate', 'Low', 'Not AD']\n"
     ]
    }
   ],
   "source": [
    "# neuropathalogical index \n",
    "# all are classification: \n",
    "\n",
    "neuropath_cols = [\n",
    "    'Overall AD neuropathological Change', 'Thal', 'Braak', 'CERAD score',\n",
    "    'Overall CAA Score', 'Highest Lewy Body Disease',\n",
    "    'Total Microinfarcts (not observed grossly)', 'Total microinfarcts in screening sections',\n",
    "    'Atherosclerosis', 'Arteriolosclerosis', 'LATE'\n",
    "]\n",
    "print(data.obs['Overall AD neuropathological Change'].head())"
   ]
  }
 ],
 "metadata": {
  "accelerator": "GPU",
  "colab": {
   "gpuType": "T4",
   "provenance": []
  },
  "kernelspec": {
   "display_name": "Python 3",
   "language": "python",
   "name": "python3"
  },
  "language_info": {
   "codemirror_mode": {
    "name": "ipython",
    "version": 3
   },
   "file_extension": ".py",
   "mimetype": "text/x-python",
   "name": "python",
   "nbconvert_exporter": "python",
   "pygments_lexer": "ipython3",
   "version": "3.13.2"
  }
 },
 "nbformat": 4,
 "nbformat_minor": 0
}
